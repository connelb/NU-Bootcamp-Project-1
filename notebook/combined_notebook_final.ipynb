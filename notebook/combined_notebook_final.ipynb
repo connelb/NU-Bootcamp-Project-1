{
 "cells": [
  {
   "cell_type": "markdown",
   "metadata": {},
   "source": [
    "# Data Science Bootcamp Group 2 Project 1\n",
    "# Medicare In-Patient Data Analysis: What is Ailing the Elderly?\n",
    "### By: Brian Connel, Jeff Rosal, Ashok Bidani, and Michael Stewart"
   ]
  },
  {
   "cell_type": "code",
   "execution_count": 2,
   "metadata": {},
   "outputs": [],
   "source": [
    "import pandas as pd\n",
    "import numpy as np\n",
    "import re\n",
    "import matplotlib.pyplot as plt\n",
    "import seaborn as sns\n",
    "import matplotlib.patches as mpatches\n",
    "from over65 import over65"
   ]
  },
  {
   "cell_type": "markdown",
   "metadata": {},
   "source": [
    "## We obtained our data from data.cms.gov (https://data.cms.gov/browse?category=Medicare%20-%20Inpatient)\n",
    "### We chose this data source since they are pre-cleaned reports from government agencies (that likely use them internally). We specifically focused on in-patient discharge information due to the large amount of data in each table and that the data were available longitudinally (2011-2015)\n",
    "### We speculated that we could look at three major types of data:\n",
    "#### 1) What types of illnesses predominate among Medicare discharges?\n",
    "#### 2) What is the scale and variability of Medicare payments by state?\n",
    "#### 3) How have these changed over time?"
   ]
  },
  {
   "cell_type": "code",
   "execution_count": 3,
   "metadata": {},
   "outputs": [],
   "source": [
    "# Declare filepaths to our CSV files\n",
    "csv_path_2011 = \"../data/Medicare_Provider_Charge_Inpatient_DRG100_FY2011.csv\"\n",
    "csv_path_2012 = \"../data/Medicare_Provider_Charge_Inpatient_DRG100_FY2012.csv\"\n",
    "csv_path_2013 = \"../data/Medicare_Provider_Charge_Inpatient_DRG100_FY2013.csv\"\n",
    "csv_path_2014 = \"../data/Medicare_Provider_Charge_Inpatient_DRGALL_FY2014.csv\"\n",
    "csv_path_2015 = \"../data/Medicare_Provider_Charge_Inpatient_DRGALL_FY2015.csv\"\n",
    "population_path = \"../data/NST-EST2017-01.csv\"\n",
    "\n",
    "# Read our data into pandas\n",
    "df_2011 = pd.read_csv(csv_path_2011)\n",
    "df_2011['year'] = '2011'\n",
    "df_2012 = pd.read_csv(csv_path_2012)\n",
    "df_2012['year'] = '2012'\n",
    "df_2013 = pd.read_csv(csv_path_2013)\n",
    "df_2013['year'] = '2013'\n",
    "df_2014 = pd.read_csv(csv_path_2014)\n",
    "df_2014['year'] = '2014'\n",
    "df_2015 = pd.read_csv(csv_path_2015)\n",
    "df_2015['year'] = '2015'\n",
    "\n",
    "df = pd.concat([df_2011,df_2012,df_2013,df_2014,df_2015])"
   ]
  },
  {
   "cell_type": "markdown",
   "metadata": {},
   "source": [
    "## We realized early on that while there was an abundance of state-by-state data, none of it was normalized and that would impact statistical analysis.\n",
    "### To remedy this, Brian found a CSV of populations by year that also included regional information. By loading this into a dataframe, we could pull the population values into our main dataframe and normalize discharges by population"
   ]
  },
  {
   "cell_type": "code",
   "execution_count": 4,
   "metadata": {},
   "outputs": [],
   "source": [
    "# Read the population data into a pandas dataframe\n",
    "df_pop = pd.read_csv(population_path)"
   ]
  },
  {
   "cell_type": "markdown",
   "metadata": {},
   "source": [
    "## We also realized early on that the DRG, Medicare's 'grouped diagnosis' term, is both a blessing a curse.\n",
    "### DRG's simplify noise in the data by grouping codes with similar diagnoses together. However, there exists a plethora of DRG's that are similar for our purposes, but distinct due to things like complications or comorbidities.\n",
    "### To remedy this, Brian deployed RegEx to search through the dataframe of DRG's and replace the patterns with emptry strings:"
   ]
  },
  {
   "cell_type": "code",
   "execution_count": 5,
   "metadata": {},
   "outputs": [],
   "source": [
    "# just to show original DRGs\n",
    "drg_titles = set(df['DRG Definition'].unique())\n",
    "# print(len(drg_titles),drg_titles)"
   ]
  },
  {
   "cell_type": "code",
   "execution_count": 6,
   "metadata": {},
   "outputs": [],
   "source": [
    "#cleaning DRG titles to create 'mod_DRG Definition' series\n",
    "patterns= [' W/O CC/MCC',' W/O MCC',' W MCC', ' W CC', ' MCC', '/MCC']\n",
    "df['step1_mod_DRG Definition'] = df['DRG Definition'].replace(patterns, \"\", regex=True)\n",
    "# knock off 'xxx - ', always 3 digits + ' - '\n",
    "df['mod_DRG Definition'] = df['step1_mod_DRG Definition'].apply(lambda x : x[6:])\n",
    "df.drop(columns=['step1_mod_DRG Definition'],inplace=True)"
   ]
  },
  {
   "cell_type": "markdown",
   "metadata": {},
   "source": [
    "##### This for loop takes a minute, test code outside to minimize waiting or consider saving as csv"
   ]
  },
  {
   "cell_type": "code",
   "execution_count": 7,
   "metadata": {
    "scrolled": true
   },
   "outputs": [
    {
     "name": "stdout",
     "output_type": "stream",
     "text": [
      "I'm done!\n"
     ]
    }
   ],
   "source": [
    "# Rename the USPS & Provider State columns to state for simplification of labels\n",
    "df = df.rename(columns={'Provider State':'state'})\n",
    "df_pop = df_pop.rename(columns={'USPS':'state'})\n",
    "# Reindex df_pop by state for using loc to look up values later\n",
    "df_pop = df_pop.set_index('state')\n",
    "# Re-index to add blank column\n",
    "list_of_columns = [column for column in df.columns.values]\n",
    "list_of_columns.append('population')\n",
    "#list_of_columns.append('division')\n",
    "#list_of_columns.append('region')\n",
    "list_of_columns.append('population')\n",
    "df = df.reindex(columns=list_of_columns)\n",
    "# Create an empty list that will be filled with the state/year population from df_pop\n",
    "# the list will then be used to fill the empty pandas column 'population'\n",
    "list_of_pops = []\n",
    "list_of_divisions = []\n",
    "list_of_regions = []\n",
    "list_of_over65 = []\n",
    "for index,row in df.iterrows():\n",
    "    _state_year_population = df_pop.loc[row['state'],row['year']]\n",
    "    #_state_division = df_pop.loc[row['state'],['Division']]\n",
    "    #_state_region = df_pop.loc[row['state'],['Region']]\n",
    "    _state_year_population = _state_year_population.replace(',','')\n",
    "    list_of_pops.append(_state_year_population)\n",
    "    #list_of_divisions.append(_state_division)\n",
    "    #list_of_regions.append(_state_region)\n",
    "    #print(f\"Row#{index},{row['state']},{row['year']}:\",_state_year_population)\n",
    "df['population']=list_of_pops\n",
    "#df['division']=list_of_divisions\n",
    "#df['region']=list_of_regions\n",
    "print(\"I'm done!\")"
   ]
  },
  {
   "cell_type": "markdown",
   "metadata": {},
   "source": [
    "##### End slow codeblock"
   ]
  },
  {
   "cell_type": "code",
   "execution_count": 10,
   "metadata": {},
   "outputs": [
    {
     "data": {
      "text/html": [
       "<div>\n",
       "<style scoped>\n",
       "    .dataframe tbody tr th:only-of-type {\n",
       "        vertical-align: middle;\n",
       "    }\n",
       "\n",
       "    .dataframe tbody tr th {\n",
       "        vertical-align: top;\n",
       "    }\n",
       "\n",
       "    .dataframe thead th {\n",
       "        text-align: right;\n",
       "    }\n",
       "</style>\n",
       "<table border=\"1\" class=\"dataframe\">\n",
       "  <thead>\n",
       "    <tr style=\"text-align: right;\">\n",
       "      <th></th>\n",
       "      <th>Unnamed: 0</th>\n",
       "      <th>DRG Definition</th>\n",
       "      <th>Provider Id</th>\n",
       "      <th>Provider Name</th>\n",
       "      <th>Provider Street Address</th>\n",
       "      <th>Provider City</th>\n",
       "      <th>state</th>\n",
       "      <th>Provider Zip Code</th>\n",
       "      <th>Hospital Referral Region (HRR) Description</th>\n",
       "      <th>Total Discharges</th>\n",
       "      <th>Average Covered Charges</th>\n",
       "      <th>Average Total Payments</th>\n",
       "      <th>Average Medicare Payments</th>\n",
       "      <th>year</th>\n",
       "      <th>mod_DRG Definition</th>\n",
       "      <th>population</th>\n",
       "      <th>division</th>\n",
       "      <th>region</th>\n",
       "      <th>population.1</th>\n",
       "    </tr>\n",
       "  </thead>\n",
       "  <tbody>\n",
       "    <tr>\n",
       "      <th>0</th>\n",
       "      <td>0</td>\n",
       "      <td>039 - EXTRACRANIAL PROCEDURES W/O CC/MCC</td>\n",
       "      <td>10001</td>\n",
       "      <td>SOUTHEAST ALABAMA MEDICAL CENTER</td>\n",
       "      <td>1108 ROSS CLARK CIRCLE</td>\n",
       "      <td>DOTHAN</td>\n",
       "      <td>AL</td>\n",
       "      <td>36301</td>\n",
       "      <td>AL - Dothan</td>\n",
       "      <td>91</td>\n",
       "      <td>32963.07692</td>\n",
       "      <td>5777.241758</td>\n",
       "      <td>4763.736264</td>\n",
       "      <td>2011</td>\n",
       "      <td>EXTRACRANIAL PROCEDURES</td>\n",
       "      <td>4798649</td>\n",
       "      <td>NaN</td>\n",
       "      <td>NaN</td>\n",
       "      <td>4798649</td>\n",
       "    </tr>\n",
       "    <tr>\n",
       "      <th>1</th>\n",
       "      <td>1</td>\n",
       "      <td>039 - EXTRACRANIAL PROCEDURES W/O CC/MCC</td>\n",
       "      <td>10005</td>\n",
       "      <td>MARSHALL MEDICAL CENTER SOUTH</td>\n",
       "      <td>2505 U S HIGHWAY 431 NORTH</td>\n",
       "      <td>BOAZ</td>\n",
       "      <td>AL</td>\n",
       "      <td>35957</td>\n",
       "      <td>AL - Birmingham</td>\n",
       "      <td>14</td>\n",
       "      <td>15131.85714</td>\n",
       "      <td>5787.571429</td>\n",
       "      <td>4976.714286</td>\n",
       "      <td>2011</td>\n",
       "      <td>EXTRACRANIAL PROCEDURES</td>\n",
       "      <td>4798649</td>\n",
       "      <td>NaN</td>\n",
       "      <td>NaN</td>\n",
       "      <td>4798649</td>\n",
       "    </tr>\n",
       "    <tr>\n",
       "      <th>2</th>\n",
       "      <td>2</td>\n",
       "      <td>039 - EXTRACRANIAL PROCEDURES W/O CC/MCC</td>\n",
       "      <td>10006</td>\n",
       "      <td>ELIZA COFFEE MEMORIAL HOSPITAL</td>\n",
       "      <td>205 MARENGO STREET</td>\n",
       "      <td>FLORENCE</td>\n",
       "      <td>AL</td>\n",
       "      <td>35631</td>\n",
       "      <td>AL - Birmingham</td>\n",
       "      <td>24</td>\n",
       "      <td>37560.37500</td>\n",
       "      <td>5434.958333</td>\n",
       "      <td>4453.791667</td>\n",
       "      <td>2011</td>\n",
       "      <td>EXTRACRANIAL PROCEDURES</td>\n",
       "      <td>4798649</td>\n",
       "      <td>NaN</td>\n",
       "      <td>NaN</td>\n",
       "      <td>4798649</td>\n",
       "    </tr>\n",
       "    <tr>\n",
       "      <th>3</th>\n",
       "      <td>3</td>\n",
       "      <td>039 - EXTRACRANIAL PROCEDURES W/O CC/MCC</td>\n",
       "      <td>10011</td>\n",
       "      <td>ST VINCENT'S EAST</td>\n",
       "      <td>50 MEDICAL PARK EAST DRIVE</td>\n",
       "      <td>BIRMINGHAM</td>\n",
       "      <td>AL</td>\n",
       "      <td>35235</td>\n",
       "      <td>AL - Birmingham</td>\n",
       "      <td>25</td>\n",
       "      <td>13998.28000</td>\n",
       "      <td>5417.560000</td>\n",
       "      <td>4129.160000</td>\n",
       "      <td>2011</td>\n",
       "      <td>EXTRACRANIAL PROCEDURES</td>\n",
       "      <td>4798649</td>\n",
       "      <td>NaN</td>\n",
       "      <td>NaN</td>\n",
       "      <td>4798649</td>\n",
       "    </tr>\n",
       "    <tr>\n",
       "      <th>4</th>\n",
       "      <td>4</td>\n",
       "      <td>039 - EXTRACRANIAL PROCEDURES W/O CC/MCC</td>\n",
       "      <td>10016</td>\n",
       "      <td>SHELBY BAPTIST MEDICAL CENTER</td>\n",
       "      <td>1000 FIRST STREET NORTH</td>\n",
       "      <td>ALABASTER</td>\n",
       "      <td>AL</td>\n",
       "      <td>35007</td>\n",
       "      <td>AL - Birmingham</td>\n",
       "      <td>18</td>\n",
       "      <td>31633.27778</td>\n",
       "      <td>5658.333333</td>\n",
       "      <td>4851.444444</td>\n",
       "      <td>2011</td>\n",
       "      <td>EXTRACRANIAL PROCEDURES</td>\n",
       "      <td>4798649</td>\n",
       "      <td>NaN</td>\n",
       "      <td>NaN</td>\n",
       "      <td>4798649</td>\n",
       "    </tr>\n",
       "  </tbody>\n",
       "</table>\n",
       "</div>"
      ],
      "text/plain": [
       "   Unnamed: 0                            DRG Definition  Provider Id  \\\n",
       "0           0  039 - EXTRACRANIAL PROCEDURES W/O CC/MCC        10001   \n",
       "1           1  039 - EXTRACRANIAL PROCEDURES W/O CC/MCC        10005   \n",
       "2           2  039 - EXTRACRANIAL PROCEDURES W/O CC/MCC        10006   \n",
       "3           3  039 - EXTRACRANIAL PROCEDURES W/O CC/MCC        10011   \n",
       "4           4  039 - EXTRACRANIAL PROCEDURES W/O CC/MCC        10016   \n",
       "\n",
       "                      Provider Name     Provider Street Address Provider City  \\\n",
       "0  SOUTHEAST ALABAMA MEDICAL CENTER      1108 ROSS CLARK CIRCLE        DOTHAN   \n",
       "1     MARSHALL MEDICAL CENTER SOUTH  2505 U S HIGHWAY 431 NORTH          BOAZ   \n",
       "2    ELIZA COFFEE MEMORIAL HOSPITAL          205 MARENGO STREET      FLORENCE   \n",
       "3                 ST VINCENT'S EAST  50 MEDICAL PARK EAST DRIVE    BIRMINGHAM   \n",
       "4     SHELBY BAPTIST MEDICAL CENTER     1000 FIRST STREET NORTH     ALABASTER   \n",
       "\n",
       "  state  Provider Zip Code Hospital Referral Region (HRR) Description  \\\n",
       "0    AL              36301                                AL - Dothan   \n",
       "1    AL              35957                            AL - Birmingham   \n",
       "2    AL              35631                            AL - Birmingham   \n",
       "3    AL              35235                            AL - Birmingham   \n",
       "4    AL              35007                            AL - Birmingham   \n",
       "\n",
       "   Total Discharges  Average Covered Charges  Average Total Payments  \\\n",
       "0                91              32963.07692             5777.241758   \n",
       "1                14              15131.85714             5787.571429   \n",
       "2                24              37560.37500             5434.958333   \n",
       "3                25              13998.28000             5417.560000   \n",
       "4                18              31633.27778             5658.333333   \n",
       "\n",
       "   Average Medicare Payments  year       mod_DRG Definition  population  \\\n",
       "0                4763.736264  2011  EXTRACRANIAL PROCEDURES     4798649   \n",
       "1                4976.714286  2011  EXTRACRANIAL PROCEDURES     4798649   \n",
       "2                4453.791667  2011  EXTRACRANIAL PROCEDURES     4798649   \n",
       "3                4129.160000  2011  EXTRACRANIAL PROCEDURES     4798649   \n",
       "4                4851.444444  2011  EXTRACRANIAL PROCEDURES     4798649   \n",
       "\n",
       "   division  region  population.1  \n",
       "0       NaN     NaN       4798649  \n",
       "1       NaN     NaN       4798649  \n",
       "2       NaN     NaN       4798649  \n",
       "3       NaN     NaN       4798649  \n",
       "4       NaN     NaN       4798649  "
      ]
     },
     "execution_count": 10,
     "metadata": {},
     "output_type": "execute_result"
    }
   ],
   "source": [
    "# Save working df to csv option:\n",
    "#df.to_csv('df_working.csv',sep=',')\n",
    "\n",
    "df = pd.read_csv('df_working.csv')\n",
    "df.head()"
   ]
  },
  {
   "cell_type": "code",
   "execution_count": null,
   "metadata": {},
   "outputs": [],
   "source": [
    "# Create an empty column for \"1e5s of pop\" and \"relative discharges\"\n",
    "list_of_columns = [column for column in df.columns.values]\n",
    "list_of_columns.append('1e5s of pop')\n",
    "list_of_columns.append('relative discharges')\n",
    "df = df.reindex(columns=list_of_columns)\n",
    "# Create a list of relative (100,000s) populations and add to dataframe\n",
    "list_of_rel_pops = []\n",
    "for pop in list_of_pops:\n",
    "    pop = int(pop) / 100000\n",
    "    list_of_rel_pops.append(pop)\n",
    "\n",
    "df['1e5s of pop'] = list_of_rel_pops\n",
    "# Do the same to create a list of relative discharges\n",
    "list_of_rel_discharges =[]\n",
    "for discharges, relpop in zip(df['Total Discharges'],df['1e5s of pop']):\n",
    "    rel_disch = discharges / float(relpop)\n",
    "    list_of_rel_discharges.append(rel_disch)\n",
    "df['relative discharges'] = list_of_rel_discharges"
   ]
  },
  {
   "cell_type": "markdown",
   "metadata": {},
   "source": []
  },
  {
   "cell_type": "code",
   "execution_count": null,
   "metadata": {},
   "outputs": [],
   "source": [
    "#### vvvvvv Can we remove this? vvvvv #####\n",
    "drgs = df.groupby(['mod_DRG Definition','state'])\n",
    "#drgs_per_state = drgs['state'].count()\n",
    "#drgs_per_state_table.head()\n",
    "# drgs_per_state"
   ]
  },
  {
   "cell_type": "code",
   "execution_count": null,
   "metadata": {},
   "outputs": [],
   "source": [
    "# drgs_per_state_table\n",
    "sns.set_style('white')\n",
    "f,ax = plt.subplots(figsize=(10,5))\n",
    "sns.heatmap(drgs_per_state_table, cmap='Blues');\n",
    "#### ^^^^^ Can we remove this? ^^^^^ #####"
   ]
  },
  {
   "cell_type": "code",
   "execution_count": null,
   "metadata": {},
   "outputs": [],
   "source": []
  },
  {
   "cell_type": "markdown",
   "metadata": {},
   "source": [
    "## We wanted to begin by analyzing nationwide trends in discharges and payments to get an idea of any large-scale changes."
   ]
  },
  {
   "cell_type": "code",
   "execution_count": null,
   "metadata": {},
   "outputs": [],
   "source": [
    "# Groupby year in the df to sum\n",
    "yeargroup = df.groupby('year')\n",
    "revised_yeargroup = yeargroup.sum()\n",
    "reduced_yeargroup = revised_yeargroup.loc[:, [\"Total Discharges\",'Average Medicare Payments']]\n",
    "reduced_yeargroup.head()"
   ]
  },
  {
   "cell_type": "code",
   "execution_count": null,
   "metadata": {},
   "outputs": [],
   "source": [
    "# Create axis object that contains the sum of all discharges each year over 2011-2015\n",
    "sns.set_style('darkgrid')\n",
    "fig, early_discharges = plt.subplots()\n",
    "early_discharges = reduced_yeargroup['Total Discharges'].plot(kind='line',color='purple')\n",
    "ax1 = early_discharges\n",
    "ax1.set_xlabel(\"Year\")\n",
    "#Produce second axis object that shares the x axis with ax1\n",
    "ax2 = ax1.twinx()\n",
    "ax2 = reduced_yeargroup['Average Medicare Payments'].plot(kind='line',color='green')\n",
    "#Title chart and axes\n",
    "tot_disch = mpatches.Patch(color='purple', label='Total Discharges')\n",
    "plt.legend(handles=[tot_disch,sum_pay])\n",
    "sum_pay = mpatches.Patch(color='green', label='Sum of Medicare Payments($Bn')\n",
    "ax1.set_ylabel('Total Discharges')\n",
    "ax2.set_ylabel('Total Medicare Payments ($)')\n",
    "ax1.set_title('Total Discharges and Medicare Payments 2011-2015')\n",
    "print(ax1.get_xticks())\n",
    "plt.show()"
   ]
  },
  {
   "cell_type": "markdown",
   "metadata": {},
   "source": [
    "## It's notable there is a relatively large inflection beginning in 2013-2014.\n",
    "### By reading the documentation, we found out that earlier datasets 2011-2013 contained only the top 100 DRG's (though ranking schema was not disclosed). After 2014, data would be available for all DRG's. This is why the number of discharges trend so closely."
   ]
  },
  {
   "cell_type": "code",
   "execution_count": null,
   "metadata": {},
   "outputs": [],
   "source": []
  },
  {
   "cell_type": "markdown",
   "metadata": {},
   "source": [
    "# ***Note Brian Wanted Regional Charts Here\n",
    "## When we plotted the total of discharges by state we initially saw several large outliers, which could be explained by their large state populations having a larger number of elderly people.\n",
    "## We then chose to normalize by discharges per 100,000 people and see what variance remained"
   ]
  },
  {
   "cell_type": "code",
   "execution_count": null,
   "metadata": {},
   "outputs": [],
   "source": [
    "stategroup = df.groupby('state')\n",
    "revised_stategroup = stategroup.sum()\n",
    "reduced_stategroup = revised_stategroup.loc[:, [\"Total Discharges\"]]\n",
    "\n",
    "state_discharges = reduced_stategroup.plot(kind='bar')\n",
    "state_discharges.set_xlabel(\"Provider State\")\n",
    "state_discharges.set_ylabel(\"Total Discharges (2011-2015)\")\n",
    "state_discharges.set_title('Medicare Discharges by State 2011-2015')\n",
    "\n",
    "plt.show()"
   ]
  },
  {
   "cell_type": "code",
   "execution_count": null,
   "metadata": {},
   "outputs": [],
   "source": [
    "stategroup = df.groupby('state')\n",
    "revised_stategroup = stategroup.sum()\n",
    "reduced_stategroup_rel = revised_stategroup.loc[:, [\"relative discharges\"]]\n",
    "\n",
    "state_rel_discharges = reduced_stategroup_rel.plot(kind='bar',figsize=(15,10))\n",
    "state_rel_discharges.set_xlabel(\"Provider State\")\n",
    "state_rel_discharges.set_ylabel(\"Discharges per 100,000 people\")\n",
    "state_rel_discharges.set_title('Discharges per 100,000 people by State 2011-2015')\n",
    "plt.show()"
   ]
  },
  {
   "cell_type": "code",
   "execution_count": null,
   "metadata": {},
   "outputs": [],
   "source": [
    "yearly_payments = revised_yeargroup.loc[:, [\"Average Medicare Payments\"]]\n",
    "yearly_payments = yearly_payments.rename(columns = {\"Average Medicare Payments\": \"Total Medicare Payment\"})\n",
    "\n",
    "totalmedicarebystate = df.groupby('state')['Average Medicare Payments'].sum()\n",
    "\n",
    "ax1 = totalmedicarebystate.plot(kind='bar', title ='Total Medicare by State',figsize=(15,10),legend=False, fontsize=12)\n",
    "ax1.set_xlabel('state',fontsize=12)\n",
    "ax1.set_ylabel('medicare',fontsize=12)"
   ]
  },
  {
   "cell_type": "code",
   "execution_count": null,
   "metadata": {},
   "outputs": [],
   "source": [
    "diagnosesgroup = df.groupby(['Provider State','mod_DRG Definition'])\n",
    "\n",
    "newdiagnoses = diagnosesgroup['Total Discharges'].sum()\n",
    "newdiagnoses.sort_values(inplace = True, ascending=[False]) \n",
    "countsdictionary = {}\n",
    "drgdictionary = {}\n",
    "for state,drg in newdiagnoses.index.values:\n",
    "   drgdictionary[state] = drg\n",
    "   countsdictionary[state] = newdiagnoses[state].iloc[0], newdiagnoses[state].index.values[0]\n",
    "   \n",
    "newdiagnoses3 = pd.DataFrame.from_dict(countsdictionary,orient='index')    \n",
    "newdiagnoses4 = pd.DataFrame.from_dict(countsdictionary) \n",
    "\n",
    "# newdiagnoses3['Average Medicare Payments per State pop'] = \n",
    "# newdiagnoses3.index.values.transform(lambda x :LookUpPop(x) )\n",
    "\n",
    "for state in newdiagnoses3.index.values:\n",
    "#     print(LookUpPop(state).iloc[0],state)\n",
    "    newdiagnoses3[:,'per'] = LookUpPop(state).iloc[0]\n",
    "    \n",
    "#newdiagnoses3.loc[state]/\n",
    "\n",
    "\n",
    "newdiagnoses3.tail()"
   ]
  },
  {
   "cell_type": "markdown",
   "metadata": {},
   "source": [
    "## At this point, we could begin comparing population-normalized discharge rates between states\n",
    "### To accomplish this, we continued to use pandas groupby and loc tools to identify values for each state"
   ]
  },
  {
   "cell_type": "code",
   "execution_count": null,
   "metadata": {},
   "outputs": [],
   "source": []
  },
  {
   "cell_type": "code",
   "execution_count": null,
   "metadata": {},
   "outputs": [],
   "source": []
  }
 ],
 "metadata": {
  "kernelspec": {
   "display_name": "Python 3",
   "language": "python",
   "name": "python3"
  },
  "language_info": {
   "codemirror_mode": {
    "name": "ipython",
    "version": 3
   },
   "file_extension": ".py",
   "mimetype": "text/x-python",
   "name": "python",
   "nbconvert_exporter": "python",
   "pygments_lexer": "ipython3",
   "version": "3.6.4"
  }
 },
 "nbformat": 4,
 "nbformat_minor": 2
}
