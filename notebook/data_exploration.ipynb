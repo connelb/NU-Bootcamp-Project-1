{
 "cells": [
  {
   "cell_type": "code",
   "execution_count": null,
   "metadata": {},
   "outputs": [],
   "source": [
    "import pandas as pd\n",
    "import numpy as np"
   ]
  },
  {
   "cell_type": "code",
   "execution_count": null,
   "metadata": {},
   "outputs": [],
   "source": [
    "# The path to our CSV files\n",
    "2011_csv_path = \".data/Medicare_Provider_Charge_Inpatient_DRG100_FY2011.csv\"\n",
    "# 2012_csv_path = \".data/Medicare_Provider_Charge_Inpatient_DRG100_FY2012.csv\"\n",
    "# 2013_csv_path = \".data/Medicare_Provider_Charge_Inpatient_DRG100_FY2013.csv\"\n",
    "# 2014_csv_path = \".data/Medicare_Provider_Charge_Inpatient_DRG100_FY2014.csv\"\n",
    "# 2015_csv_path = \".data/Medicare_Provider_Charge_Inpatient_DRG100_FY2015.csv\"\n",
    "\n",
    "# Read our data into pandas\n",
    "2011_df = pd.read_csv(2011_csv_path)\n",
    "# 2012_df = pd.read_csv(2012_csv_path)\n",
    "# 2013_df = pd.read_csv(2013_csv_path)\n",
    "# 2014_df = pd.read_csv(2014_csv_path)\n",
    "# 2015_df = pd.read_csv(2015_csv_path)\n",
    "df= pd.merge(2011_df,2012_df,2013_df,2014_df,2015_df)"
   ]
  },
  {
   "cell_type": "code",
   "execution_count": null,
   "metadata": {},
   "outputs": [],
   "source": []
  }
 ],
 "metadata": {
  "kernelspec": {
   "display_name": "Python 3",
   "language": "python",
   "name": "python3"
  },
  "language_info": {
   "codemirror_mode": {
    "name": "ipython",
    "version": 3
   },
   "file_extension": ".py",
   "mimetype": "text/x-python",
   "name": "python",
   "nbconvert_exporter": "python",
   "pygments_lexer": "ipython3",
   "version": "3.6.4"
  }
 },
 "nbformat": 4,
 "nbformat_minor": 2
}
