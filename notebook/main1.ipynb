{
 "cells": [
  {
   "cell_type": "code",
   "execution_count": 71,
   "metadata": {},
   "outputs": [],
   "source": [
    "#Declare dependencies\n",
    "import geopandas as gpd\n",
    "import pandas as pd\n",
    "from matplotlib import pyplot as plt\n",
    "us_state_abbrev = {\n",
    "    'Alabama': 'AL',\n",
    "    'Alaska': 'AK',\n",
    "    'Arizona': 'AZ',\n",
    "    'Arkansas': 'AR',\n",
    "    'California': 'CA',\n",
    "    'Colorado': 'CO',\n",
    "    'Connecticut': 'CT',\n",
    "    'Delaware': 'DE',\n",
    "    'Florida': 'FL',\n",
    "    'Georgia': 'GA',\n",
    "    'Hawaii': 'HI',\n",
    "    'Idaho': 'ID',\n",
    "    'Illinois': 'IL',\n",
    "    'Indiana': 'IN',\n",
    "    'Iowa': 'IA',\n",
    "    'Kansas': 'KS',\n",
    "    'Kentucky': 'KY',\n",
    "    'Louisiana': 'LA',\n",
    "    'Maine': 'ME',\n",
    "    'Maryland': 'MD',\n",
    "    'Massachusetts': 'MA',\n",
    "    'Michigan': 'MI',\n",
    "    'Minnesota': 'MN',\n",
    "    'Mississippi': 'MS',\n",
    "    'Missouri': 'MO',\n",
    "    'Montana': 'MT',\n",
    "    'Nebraska': 'NE',\n",
    "    'Nevada': 'NV',\n",
    "    'New Hampshire': 'NH',\n",
    "    'New Jersey': 'NJ',\n",
    "    'New Mexico': 'NM',\n",
    "    'New York': 'NY',\n",
    "    'North Carolina': 'NC',\n",
    "    'North Dakota': 'ND',\n",
    "    'Ohio': 'OH',\n",
    "    'Oklahoma': 'OK',\n",
    "    'Oregon': 'OR',\n",
    "    'Pennsylvania': 'PA',\n",
    "    'Rhode Island': 'RI',\n",
    "    'South Carolina': 'SC',\n",
    "    'South Dakota': 'SD',\n",
    "    'Tennessee': 'TN',\n",
    "    'Texas': 'TX',\n",
    "    'Utah': 'UT',\n",
    "    'Vermont': 'VT',\n",
    "    'Virginia': 'VA',\n",
    "    'Washington': 'WA',\n",
    "    'West Virginia': 'WV',\n",
    "    'Wisconsin': 'WI',\n",
    "    'Wyoming': 'WY',\n",
    "    'Puerto Rico': 'PR',\n",
    "    'District of Columbia':'DC'\n",
    "}"
   ]
  },
  {
   "cell_type": "code",
   "execution_count": 65,
   "metadata": {},
   "outputs": [
    {
     "data": {
      "text/html": [
       "<div>\n",
       "<style scoped>\n",
       "    .dataframe tbody tr th:only-of-type {\n",
       "        vertical-align: middle;\n",
       "    }\n",
       "\n",
       "    .dataframe tbody tr th {\n",
       "        vertical-align: top;\n",
       "    }\n",
       "\n",
       "    .dataframe thead th {\n",
       "        text-align: right;\n",
       "    }\n",
       "</style>\n",
       "<table border=\"1\" class=\"dataframe\">\n",
       "  <thead>\n",
       "    <tr style=\"text-align: right;\">\n",
       "      <th></th>\n",
       "      <th>geometry</th>\n",
       "      <th>State</th>\n",
       "      <th>Sum of Medicare Payments($)</th>\n",
       "    </tr>\n",
       "  </thead>\n",
       "  <tbody>\n",
       "    <tr>\n",
       "      <th>0</th>\n",
       "      <td>(POLYGON ((-67.619761 44.519754, -67.61541 44....</td>\n",
       "      <td>ME</td>\n",
       "      <td>3.919304e+07</td>\n",
       "    </tr>\n",
       "    <tr>\n",
       "      <th>1</th>\n",
       "      <td>(POLYGON ((-70.832044 41.606504, -70.823735 41...</td>\n",
       "      <td>MA</td>\n",
       "      <td>2.519025e+08</td>\n",
       "    </tr>\n",
       "    <tr>\n",
       "      <th>2</th>\n",
       "      <td>(POLYGON ((-88.684434 48.115785, -88.675628 48...</td>\n",
       "      <td>MI</td>\n",
       "      <td>3.106513e+08</td>\n",
       "    </tr>\n",
       "    <tr>\n",
       "      <th>3</th>\n",
       "      <td>POLYGON ((-104.057698 44.997431, -104.250145 4...</td>\n",
       "      <td>MT</td>\n",
       "      <td>2.471109e+07</td>\n",
       "    </tr>\n",
       "    <tr>\n",
       "      <th>4</th>\n",
       "      <td>POLYGON ((-114.0506 37.000396, -114.049995 36....</td>\n",
       "      <td>NV</td>\n",
       "      <td>6.763138e+07</td>\n",
       "    </tr>\n",
       "  </tbody>\n",
       "</table>\n",
       "</div>"
      ],
      "text/plain": [
       "                                            geometry State  \\\n",
       "0  (POLYGON ((-67.619761 44.519754, -67.61541 44....    ME   \n",
       "1  (POLYGON ((-70.832044 41.606504, -70.823735 41...    MA   \n",
       "2  (POLYGON ((-88.684434 48.115785, -88.675628 48...    MI   \n",
       "3  POLYGON ((-104.057698 44.997431, -104.250145 4...    MT   \n",
       "4  POLYGON ((-114.0506 37.000396, -114.049995 36....    NV   \n",
       "\n",
       "   Sum of Medicare Payments($)  \n",
       "0                 3.919304e+07  \n",
       "1                 2.519025e+08  \n",
       "2                 3.106513e+08  \n",
       "3                 2.471109e+07  \n",
       "4                 6.763138e+07  "
      ]
     },
     "execution_count": 65,
     "metadata": {},
     "output_type": "execute_result"
    }
   ],
   "source": [
    "##Read GeoJSON data into geopandas dataframe\n",
    "usa = gpd.read_file('us_states_geo.json')\n",
    "# Read total medicare discharges by state into a dataframe\n",
    "medbystatedf = pd.read_csv('totalmedicarebystate.csv')\n",
    "medbystatedf = medbystatedf.rename(columns={'AK':'State','18345349.693582997':'Sum of Medicare Payments($)'})\n",
    "# Iterate over rows in geoDF to replace state name's with abbrev's\n",
    "# this will make the dataframe compatible with the Medicare data\n",
    "for row, index in usa.iterrows():\n",
    "    #Drop Puerto Rico from the geodataframe as we have no medicare data for it\n",
    "    if index['NAME'] == 'Puerto Rico':\n",
    "        usa.drop(labels=row,axis=0,inplace=True)\n",
    "    else:\n",
    "        usa.replace(to_replace=index['NAME'],value=us_state_abbrev[index['NAME']],inplace=True)\n",
    "usa.head()\n",
    "# Merge geoDF and medicareDF on the State Name column\n",
    "usa['NAME'] = usa['NAME'].astype(str)\n",
    "medbystatedf['State'] = medbystatedf['State'].astype(str)\n",
    "medbystate_wgeo_df = usa.merge(right=medbystatedf,how='outer',left_on='NAME',right_on='State')\n",
    "medbystate_wgeo_df.drop(columns=['GEO_ID','STATE','NAME','LSAD','CENSUSAREA'],inplace=True)\n",
    "medbystate_wgeo_df.head()\n",
    "##Add in data from state-by-state dataframes\n",
    "#usa_new = usa.drop(columns=['GEO_ID','STATE','LSAD','CENSUSAREA'])\n",
    "#**common_drg_bystatedf = pd.read_csv(**)\n",
    "#**total_pay_bystatedf = pd.read_csv(**)\n",
    "##Merge geoDF into other DF's to generate heatmaps"
   ]
  },
  {
   "cell_type": "code",
   "execution_count": 117,
   "metadata": {},
   "outputs": [
    {
     "name": "stdout",
     "output_type": "stream",
     "text": [
      "<class 'geopandas.geodataframe.GeoDataFrame'>\n"
     ]
    },
    {
     "name": "stderr",
     "output_type": "stream",
     "text": [
      "/anaconda3/envs/data/lib/python3.6/site-packages/matplotlib/colors.py:504: RuntimeWarning: invalid value encountered in less\n",
      "  xa[xa < 0] = -1\n"
     ]
    },
    {
     "data": {
      "image/png": "[encoded data removed]",
      "text/plain": [
       "<Figure size 432x288 with 1 Axes>"
      ]
     },
     "metadata": {},
     "output_type": "display_data"
    }
   ],
   "source": [
    "#Create plot of GeoMap data \n",
    "#fig, ax = plt.subplots()\n",
    "output = medbystate_wgeo_df.plot(cmap='OrRd',column='Sum of Medicare Payments($)').axis(xmax=-60,xmin=-180)\n",
    "print(type(medbystate_wgeo_df))\n",
    "#plt.savefig('SpendingByState',dpi=1000)"
   ]
  },
  {
   "cell_type": "code",
   "execution_count": null,
   "metadata": {},
   "outputs": [],
   "source": []
  },
  {
   "cell_type": "code",
   "execution_count": null,
   "metadata": {},
   "outputs": [],
   "source": []
  }
 ],
 "metadata": {
  "kernelspec": {
   "display_name": "Python [default]",
   "language": "python",
   "name": "python3"
  },
  "language_info": {
   "codemirror_mode": {
    "name": "ipython",
    "version": 3
   },
   "file_extension": ".py",
   "mimetype": "text/x-python",
   "name": "python",
   "nbconvert_exporter": "python",
   "pygments_lexer": "ipython3",
   "version": "3.6.5"
  }
 },
 "nbformat": 4,
 "nbformat_minor": 2
}
